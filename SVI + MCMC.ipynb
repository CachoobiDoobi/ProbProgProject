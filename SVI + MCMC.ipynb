{
 "cells": [
  {
   "cell_type": "code",
   "execution_count": 1,
   "id": "44106950",
   "metadata": {},
   "outputs": [],
   "source": [
    "import math\n",
    "import os\n",
    "import torch\n",
    "import torch.distributions.constraints as constraints\n",
    "import pyro\n",
    "import logging\n",
    "from pyro.optim import Adam\n",
    "from pyro.infer import SVI, Trace_ELBO\n",
    "import pyro.distributions as dist\n",
    "import matplotlib.pyplot as plt\n",
    "from pyro.infer.autoguide.guides import AutoGuideList,AutoGuide\n",
    "import numpy as np\n",
    "\n",
    "from pyro.infer import MCMC, NUTS"
   ]
  },
  {
   "cell_type": "code",
   "execution_count": 2,
   "id": "81fa5519",
   "metadata": {},
   "outputs": [],
   "source": [
    "# this is for running the notebook in our testing framework\n",
    "smoke_test = ('CI' in os.environ)\n",
    "n_steps = 2 if smoke_test else 1000\n",
    "\n",
    "assert pyro.__version__.startswith('1.8.6')"
   ]
  },
  {
   "cell_type": "code",
   "execution_count": 3,
   "id": "60fb5715",
   "metadata": {},
   "outputs": [],
   "source": [
    "# clear the param store in case we're in a REPL\n",
    "pyro.clear_param_store()"
   ]
  },
  {
   "cell_type": "code",
   "execution_count": 4,
   "id": "6483e203",
   "metadata": {},
   "outputs": [],
   "source": [
    "# create some data with 6 observed heads and 4 observed tails\n",
    "data = []\n",
    "for _ in range(60):\n",
    "    data.append(torch.tensor(1.0))\n",
    "for _ in range(40):\n",
    "    data.append(torch.tensor(0.0))"
   ]
  },
  {
   "cell_type": "code",
   "execution_count": 5,
   "id": "8f7ce441",
   "metadata": {},
   "outputs": [],
   "source": [
    "def model(data):\n",
    "    # define the hyperparameters that control the Beta prior\n",
    "    alpha0 = pyro.param(\"alpha_q\", torch.tensor(10.0))   #torch.tensor(10.0)\n",
    "    beta0 = pyro.param(\"beta_q\", torch.tensor(15.0))\n",
    "    # sample f from the Beta prior\n",
    "    f = pyro.sample(\"latent_fairness\", dist.Beta(alpha0, beta0))\n",
    "    # loop over the observed data\n",
    "    for i in range(len(data)):\n",
    "        # observe datapoint i using the ernoulli likelihood\n",
    "        pyro.sample(\"obs_{}\".format(i), dist.Bernoulli(f), obs=data[i])\n",
    "    return f"
   ]
  },
  {
   "cell_type": "code",
   "execution_count": 6,
   "id": "f6eadde3",
   "metadata": {},
   "outputs": [],
   "source": [
    "def guide_0(data):\n",
    "    # register the two variational parameters with Pyro\n",
    "    # - both parameters will have initial value 15.0.\n",
    "    # - because we invoke constraints.positive, the optimizer\n",
    "    # will take gradients on the unconstrained parameters\n",
    "    # (which are related to the constrained parameters by a log)\n",
    "    alpha_q = pyro.param(\"alpha_q\", torch.tensor(15.0),\n",
    "                         constraint=constraints.positive)\n",
    "    beta_q = pyro.param(\"beta_q\", torch.tensor(15.0),\n",
    "                        constraint=constraints.positive)\n",
    "    # sample latent_fairness from the distribution Beta(alpha_q, beta_q)\n",
    "    pyro.sample(\"latent_fairness\", dist.Beta(alpha_q, beta_q))\n",
    "    \n",
    "# def guide_1(data):\n",
    "#     nuts_kernel = NUTS(model)\n",
    "#     mcmc = MCMC(\n",
    "#         nuts_kernel,\n",
    "#         num_samples=10,\n",
    "#         warmup_steps=10,\n",
    "#         num_chains=1,\n",
    "#     )\n",
    "#     mcmc.run(data)\n",
    "#     samples = mcmc.get_samples()[\"latent_fairness\"].mean()"
   ]
  },
  {
   "cell_type": "code",
   "execution_count": 7,
   "id": "c0a305bf",
   "metadata": {},
   "outputs": [],
   "source": [
    "# setup the optimizer\n",
    "adam_params = {\"lr\": 0.0005, \"betas\": (0.90, 0.999)}\n",
    "optimizer = Adam(adam_params)\n",
    "\n",
    "\n",
    "guide = AutoGuideList(model)\n",
    "guide.append(guide_0)\n",
    "# guide.append(guide_1)\n",
    "\n",
    "# setup the inference algorithm\n",
    "svi = SVI(model, guide, optimizer, loss=Trace_ELBO())"
   ]
  },
  {
   "cell_type": "code",
   "execution_count": 8,
   "id": "bcf9efd7",
   "metadata": {
    "scrolled": true
   },
   "outputs": [
    {
     "name": "stdout",
     "output_type": "stream",
     "text": [
      "0\n",
      "100\n",
      "200\n",
      "300\n",
      "400\n",
      "500\n",
      "600\n",
      "700\n",
      "800\n",
      "900\n"
     ]
    }
   ],
   "source": [
    "losses= [] \n",
    "# do gradient steps\n",
    "for step in range(n_steps):\n",
    "    loss = svi.step(data)\n",
    "    losses.append(loss)\n",
    "    if step % 100 == 0:\n",
    "        print(step)\n",
    "        logging.info(\"Elbo loss: {}\".format(loss))\n"
   ]
  },
  {
   "cell_type": "code",
   "execution_count": 9,
   "id": "cbe34c8f",
   "metadata": {},
   "outputs": [
    {
     "data": {
      "image/png": "[encoded data removed]",
      "text/plain": [
       "<Figure size 500x200 with 1 Axes>"
      ]
     },
     "metadata": {},
     "output_type": "display_data"
    }
   ],
   "source": [
    "plt.figure(figsize=(5, 2))\n",
    "plt.plot(losses)\n",
    "plt.xlabel(\"SVI step\")\n",
    "plt.ylabel(\"ELBO loss\");"
   ]
  },
  {
   "cell_type": "code",
   "execution_count": 10,
   "id": "692d6029",
   "metadata": {},
   "outputs": [
    {
     "name": "stdout",
     "output_type": "stream",
     "text": [
      "\n",
      "Based on the data and our prior belief, the fairness of the coin is 0.417 +- 0.097\n"
     ]
    }
   ],
   "source": [
    "# grab the learned variational parameters\n",
    "alpha_q = pyro.param(\"alpha_q\").item()\n",
    "beta_q = pyro.param(\"beta_q\").item()\n",
    "\n",
    "# here we use some facts about the Beta distribution\n",
    "# compute the inferred mean of the coin's fairness\n",
    "inferred_mean = alpha_q / (alpha_q + beta_q)\n",
    "# compute inferred standard deviation\n",
    "factor = beta_q / (alpha_q * (1.0 + alpha_q + beta_q))\n",
    "inferred_std = inferred_mean * math.sqrt(factor)\n",
    "\n",
    "print(\"\\nBased on the data and our prior belief, the fairness \" +\n",
    "      \"of the coin is %.3f +- %.3f\" % (inferred_mean, inferred_std))"
   ]
  },
  {
   "cell_type": "code",
   "execution_count": 11,
   "id": "47255d09",
   "metadata": {},
   "outputs": [
    {
     "name": "stderr",
     "output_type": "stream",
     "text": [
      "D:\\Python\\Lib\\site-packages\\pyro\\primitives.py:137: RuntimeWarning: trying to observe a value outside of inference at obs_0\n",
      "  warnings.warn(\n",
      "D:\\Python\\Lib\\site-packages\\pyro\\primitives.py:137: RuntimeWarning: trying to observe a value outside of inference at obs_1\n",
      "  warnings.warn(\n",
      "D:\\Python\\Lib\\site-packages\\pyro\\primitives.py:137: RuntimeWarning: trying to observe a value outside of inference at obs_2\n",
      "  warnings.warn(\n",
      "D:\\Python\\Lib\\site-packages\\pyro\\primitives.py:137: RuntimeWarning: trying to observe a value outside of inference at obs_3\n",
      "  warnings.warn(\n",
      "D:\\Python\\Lib\\site-packages\\pyro\\primitives.py:137: RuntimeWarning: trying to observe a value outside of inference at obs_4\n",
      "  warnings.warn(\n",
      "D:\\Python\\Lib\\site-packages\\pyro\\primitives.py:137: RuntimeWarning: trying to observe a value outside of inference at obs_5\n",
      "  warnings.warn(\n",
      "D:\\Python\\Lib\\site-packages\\pyro\\primitives.py:137: RuntimeWarning: trying to observe a value outside of inference at obs_6\n",
      "  warnings.warn(\n",
      "D:\\Python\\Lib\\site-packages\\pyro\\primitives.py:137: RuntimeWarning: trying to observe a value outside of inference at obs_7\n",
      "  warnings.warn(\n",
      "D:\\Python\\Lib\\site-packages\\pyro\\primitives.py:137: RuntimeWarning: trying to observe a value outside of inference at obs_8\n",
      "  warnings.warn(\n",
      "D:\\Python\\Lib\\site-packages\\pyro\\primitives.py:137: RuntimeWarning: trying to observe a value outside of inference at obs_9\n",
      "  warnings.warn(\n",
      "D:\\Python\\Lib\\site-packages\\pyro\\primitives.py:137: RuntimeWarning: trying to observe a value outside of inference at obs_10\n",
      "  warnings.warn(\n",
      "D:\\Python\\Lib\\site-packages\\pyro\\primitives.py:137: RuntimeWarning: trying to observe a value outside of inference at obs_11\n",
      "  warnings.warn(\n",
      "D:\\Python\\Lib\\site-packages\\pyro\\primitives.py:137: RuntimeWarning: trying to observe a value outside of inference at obs_12\n",
      "  warnings.warn(\n",
      "D:\\Python\\Lib\\site-packages\\pyro\\primitives.py:137: RuntimeWarning: trying to observe a value outside of inference at obs_13\n",
      "  warnings.warn(\n",
      "D:\\Python\\Lib\\site-packages\\pyro\\primitives.py:137: RuntimeWarning: trying to observe a value outside of inference at obs_14\n",
      "  warnings.warn(\n",
      "D:\\Python\\Lib\\site-packages\\pyro\\primitives.py:137: RuntimeWarning: trying to observe a value outside of inference at obs_15\n",
      "  warnings.warn(\n",
      "D:\\Python\\Lib\\site-packages\\pyro\\primitives.py:137: RuntimeWarning: trying to observe a value outside of inference at obs_16\n",
      "  warnings.warn(\n",
      "D:\\Python\\Lib\\site-packages\\pyro\\primitives.py:137: RuntimeWarning: trying to observe a value outside of inference at obs_17\n",
      "  warnings.warn(\n",
      "D:\\Python\\Lib\\site-packages\\pyro\\primitives.py:137: RuntimeWarning: trying to observe a value outside of inference at obs_18\n",
      "  warnings.warn(\n",
      "D:\\Python\\Lib\\site-packages\\pyro\\primitives.py:137: RuntimeWarning: trying to observe a value outside of inference at obs_19\n",
      "  warnings.warn(\n",
      "D:\\Python\\Lib\\site-packages\\pyro\\primitives.py:137: RuntimeWarning: trying to observe a value outside of inference at obs_20\n",
      "  warnings.warn(\n",
      "D:\\Python\\Lib\\site-packages\\pyro\\primitives.py:137: RuntimeWarning: trying to observe a value outside of inference at obs_21\n",
      "  warnings.warn(\n",
      "D:\\Python\\Lib\\site-packages\\pyro\\primitives.py:137: RuntimeWarning: trying to observe a value outside of inference at obs_22\n",
      "  warnings.warn(\n",
      "D:\\Python\\Lib\\site-packages\\pyro\\primitives.py:137: RuntimeWarning: trying to observe a value outside of inference at obs_23\n",
      "  warnings.warn(\n",
      "D:\\Python\\Lib\\site-packages\\pyro\\primitives.py:137: RuntimeWarning: trying to observe a value outside of inference at obs_24\n",
      "  warnings.warn(\n",
      "D:\\Python\\Lib\\site-packages\\pyro\\primitives.py:137: RuntimeWarning: trying to observe a value outside of inference at obs_25\n",
      "  warnings.warn(\n",
      "D:\\Python\\Lib\\site-packages\\pyro\\primitives.py:137: RuntimeWarning: trying to observe a value outside of inference at obs_26\n",
      "  warnings.warn(\n",
      "D:\\Python\\Lib\\site-packages\\pyro\\primitives.py:137: RuntimeWarning: trying to observe a value outside of inference at obs_27\n",
      "  warnings.warn(\n",
      "D:\\Python\\Lib\\site-packages\\pyro\\primitives.py:137: RuntimeWarning: trying to observe a value outside of inference at obs_28\n",
      "  warnings.warn(\n",
      "D:\\Python\\Lib\\site-packages\\pyro\\primitives.py:137: RuntimeWarning: trying to observe a value outside of inference at obs_29\n",
      "  warnings.warn(\n",
      "D:\\Python\\Lib\\site-packages\\pyro\\primitives.py:137: RuntimeWarning: trying to observe a value outside of inference at obs_30\n",
      "  warnings.warn(\n",
      "D:\\Python\\Lib\\site-packages\\pyro\\primitives.py:137: RuntimeWarning: trying to observe a value outside of inference at obs_31\n",
      "  warnings.warn(\n",
      "D:\\Python\\Lib\\site-packages\\pyro\\primitives.py:137: RuntimeWarning: trying to observe a value outside of inference at obs_32\n",
      "  warnings.warn(\n",
      "D:\\Python\\Lib\\site-packages\\pyro\\primitives.py:137: RuntimeWarning: trying to observe a value outside of inference at obs_33\n",
      "  warnings.warn(\n",
      "D:\\Python\\Lib\\site-packages\\pyro\\primitives.py:137: RuntimeWarning: trying to observe a value outside of inference at obs_34\n",
      "  warnings.warn(\n",
      "D:\\Python\\Lib\\site-packages\\pyro\\primitives.py:137: RuntimeWarning: trying to observe a value outside of inference at obs_35\n",
      "  warnings.warn(\n",
      "D:\\Python\\Lib\\site-packages\\pyro\\primitives.py:137: RuntimeWarning: trying to observe a value outside of inference at obs_36\n",
      "  warnings.warn(\n",
      "D:\\Python\\Lib\\site-packages\\pyro\\primitives.py:137: RuntimeWarning: trying to observe a value outside of inference at obs_37\n",
      "  warnings.warn(\n",
      "D:\\Python\\Lib\\site-packages\\pyro\\primitives.py:137: RuntimeWarning: trying to observe a value outside of inference at obs_38\n",
      "  warnings.warn(\n",
      "D:\\Python\\Lib\\site-packages\\pyro\\primitives.py:137: RuntimeWarning: trying to observe a value outside of inference at obs_39\n",
      "  warnings.warn(\n",
      "D:\\Python\\Lib\\site-packages\\pyro\\primitives.py:137: RuntimeWarning: trying to observe a value outside of inference at obs_40\n",
      "  warnings.warn(\n",
      "D:\\Python\\Lib\\site-packages\\pyro\\primitives.py:137: RuntimeWarning: trying to observe a value outside of inference at obs_41\n",
      "  warnings.warn(\n",
      "D:\\Python\\Lib\\site-packages\\pyro\\primitives.py:137: RuntimeWarning: trying to observe a value outside of inference at obs_42\n",
      "  warnings.warn(\n",
      "D:\\Python\\Lib\\site-packages\\pyro\\primitives.py:137: RuntimeWarning: trying to observe a value outside of inference at obs_43\n",
      "  warnings.warn(\n",
      "D:\\Python\\Lib\\site-packages\\pyro\\primitives.py:137: RuntimeWarning: trying to observe a value outside of inference at obs_44\n",
      "  warnings.warn(\n",
      "D:\\Python\\Lib\\site-packages\\pyro\\primitives.py:137: RuntimeWarning: trying to observe a value outside of inference at obs_45\n",
      "  warnings.warn(\n",
      "D:\\Python\\Lib\\site-packages\\pyro\\primitives.py:137: RuntimeWarning: trying to observe a value outside of inference at obs_46\n",
      "  warnings.warn(\n",
      "D:\\Python\\Lib\\site-packages\\pyro\\primitives.py:137: RuntimeWarning: trying to observe a value outside of inference at obs_47\n",
      "  warnings.warn(\n",
      "D:\\Python\\Lib\\site-packages\\pyro\\primitives.py:137: RuntimeWarning: trying to observe a value outside of inference at obs_48\n",
      "  warnings.warn(\n",
      "D:\\Python\\Lib\\site-packages\\pyro\\primitives.py:137: RuntimeWarning: trying to observe a value outside of inference at obs_49\n",
      "  warnings.warn(\n",
      "D:\\Python\\Lib\\site-packages\\pyro\\primitives.py:137: RuntimeWarning: trying to observe a value outside of inference at obs_50\n",
      "  warnings.warn(\n",
      "D:\\Python\\Lib\\site-packages\\pyro\\primitives.py:137: RuntimeWarning: trying to observe a value outside of inference at obs_51\n",
      "  warnings.warn(\n",
      "D:\\Python\\Lib\\site-packages\\pyro\\primitives.py:137: RuntimeWarning: trying to observe a value outside of inference at obs_52\n",
      "  warnings.warn(\n",
      "D:\\Python\\Lib\\site-packages\\pyro\\primitives.py:137: RuntimeWarning: trying to observe a value outside of inference at obs_53\n",
      "  warnings.warn(\n",
      "D:\\Python\\Lib\\site-packages\\pyro\\primitives.py:137: RuntimeWarning: trying to observe a value outside of inference at obs_54\n",
      "  warnings.warn(\n",
      "D:\\Python\\Lib\\site-packages\\pyro\\primitives.py:137: RuntimeWarning: trying to observe a value outside of inference at obs_55\n",
      "  warnings.warn(\n",
      "D:\\Python\\Lib\\site-packages\\pyro\\primitives.py:137: RuntimeWarning: trying to observe a value outside of inference at obs_56\n",
      "  warnings.warn(\n",
      "D:\\Python\\Lib\\site-packages\\pyro\\primitives.py:137: RuntimeWarning: trying to observe a value outside of inference at obs_57\n",
      "  warnings.warn(\n",
      "D:\\Python\\Lib\\site-packages\\pyro\\primitives.py:137: RuntimeWarning: trying to observe a value outside of inference at obs_58\n",
      "  warnings.warn(\n",
      "D:\\Python\\Lib\\site-packages\\pyro\\primitives.py:137: RuntimeWarning: trying to observe a value outside of inference at obs_59\n",
      "  warnings.warn(\n",
      "D:\\Python\\Lib\\site-packages\\pyro\\primitives.py:137: RuntimeWarning: trying to observe a value outside of inference at obs_60\n",
      "  warnings.warn(\n",
      "D:\\Python\\Lib\\site-packages\\pyro\\primitives.py:137: RuntimeWarning: trying to observe a value outside of inference at obs_61\n",
      "  warnings.warn(\n",
      "D:\\Python\\Lib\\site-packages\\pyro\\primitives.py:137: RuntimeWarning: trying to observe a value outside of inference at obs_62\n",
      "  warnings.warn(\n",
      "D:\\Python\\Lib\\site-packages\\pyro\\primitives.py:137: RuntimeWarning: trying to observe a value outside of inference at obs_63\n",
      "  warnings.warn(\n",
      "D:\\Python\\Lib\\site-packages\\pyro\\primitives.py:137: RuntimeWarning: trying to observe a value outside of inference at obs_64\n",
      "  warnings.warn(\n",
      "D:\\Python\\Lib\\site-packages\\pyro\\primitives.py:137: RuntimeWarning: trying to observe a value outside of inference at obs_65\n",
      "  warnings.warn(\n",
      "D:\\Python\\Lib\\site-packages\\pyro\\primitives.py:137: RuntimeWarning: trying to observe a value outside of inference at obs_66\n",
      "  warnings.warn(\n",
      "D:\\Python\\Lib\\site-packages\\pyro\\primitives.py:137: RuntimeWarning: trying to observe a value outside of inference at obs_67\n",
      "  warnings.warn(\n",
      "D:\\Python\\Lib\\site-packages\\pyro\\primitives.py:137: RuntimeWarning: trying to observe a value outside of inference at obs_68\n",
      "  warnings.warn(\n",
      "D:\\Python\\Lib\\site-packages\\pyro\\primitives.py:137: RuntimeWarning: trying to observe a value outside of inference at obs_69\n",
      "  warnings.warn(\n",
      "D:\\Python\\Lib\\site-packages\\pyro\\primitives.py:137: RuntimeWarning: trying to observe a value outside of inference at obs_70\n",
      "  warnings.warn(\n",
      "D:\\Python\\Lib\\site-packages\\pyro\\primitives.py:137: RuntimeWarning: trying to observe a value outside of inference at obs_71\n",
      "  warnings.warn(\n",
      "D:\\Python\\Lib\\site-packages\\pyro\\primitives.py:137: RuntimeWarning: trying to observe a value outside of inference at obs_72\n",
      "  warnings.warn(\n",
      "D:\\Python\\Lib\\site-packages\\pyro\\primitives.py:137: RuntimeWarning: trying to observe a value outside of inference at obs_73\n",
      "  warnings.warn(\n",
      "D:\\Python\\Lib\\site-packages\\pyro\\primitives.py:137: RuntimeWarning: trying to observe a value outside of inference at obs_74\n",
      "  warnings.warn(\n",
      "D:\\Python\\Lib\\site-packages\\pyro\\primitives.py:137: RuntimeWarning: trying to observe a value outside of inference at obs_75\n",
      "  warnings.warn(\n",
      "D:\\Python\\Lib\\site-packages\\pyro\\primitives.py:137: RuntimeWarning: trying to observe a value outside of inference at obs_76\n",
      "  warnings.warn(\n",
      "D:\\Python\\Lib\\site-packages\\pyro\\primitives.py:137: RuntimeWarning: trying to observe a value outside of inference at obs_77\n",
      "  warnings.warn(\n",
      "D:\\Python\\Lib\\site-packages\\pyro\\primitives.py:137: RuntimeWarning: trying to observe a value outside of inference at obs_78\n",
      "  warnings.warn(\n",
      "D:\\Python\\Lib\\site-packages\\pyro\\primitives.py:137: RuntimeWarning: trying to observe a value outside of inference at obs_79\n",
      "  warnings.warn(\n",
      "D:\\Python\\Lib\\site-packages\\pyro\\primitives.py:137: RuntimeWarning: trying to observe a value outside of inference at obs_80\n",
      "  warnings.warn(\n",
      "D:\\Python\\Lib\\site-packages\\pyro\\primitives.py:137: RuntimeWarning: trying to observe a value outside of inference at obs_81\n",
      "  warnings.warn(\n",
      "D:\\Python\\Lib\\site-packages\\pyro\\primitives.py:137: RuntimeWarning: trying to observe a value outside of inference at obs_82\n",
      "  warnings.warn(\n",
      "D:\\Python\\Lib\\site-packages\\pyro\\primitives.py:137: RuntimeWarning: trying to observe a value outside of inference at obs_83\n",
      "  warnings.warn(\n",
      "D:\\Python\\Lib\\site-packages\\pyro\\primitives.py:137: RuntimeWarning: trying to observe a value outside of inference at obs_84\n",
      "  warnings.warn(\n",
      "D:\\Python\\Lib\\site-packages\\pyro\\primitives.py:137: RuntimeWarning: trying to observe a value outside of inference at obs_85\n",
      "  warnings.warn(\n",
      "D:\\Python\\Lib\\site-packages\\pyro\\primitives.py:137: RuntimeWarning: trying to observe a value outside of inference at obs_86\n",
      "  warnings.warn(\n",
      "D:\\Python\\Lib\\site-packages\\pyro\\primitives.py:137: RuntimeWarning: trying to observe a value outside of inference at obs_87\n",
      "  warnings.warn(\n",
      "D:\\Python\\Lib\\site-packages\\pyro\\primitives.py:137: RuntimeWarning: trying to observe a value outside of inference at obs_88\n",
      "  warnings.warn(\n",
      "D:\\Python\\Lib\\site-packages\\pyro\\primitives.py:137: RuntimeWarning: trying to observe a value outside of inference at obs_89\n",
      "  warnings.warn(\n",
      "D:\\Python\\Lib\\site-packages\\pyro\\primitives.py:137: RuntimeWarning: trying to observe a value outside of inference at obs_90\n",
      "  warnings.warn(\n",
      "D:\\Python\\Lib\\site-packages\\pyro\\primitives.py:137: RuntimeWarning: trying to observe a value outside of inference at obs_91\n",
      "  warnings.warn(\n",
      "D:\\Python\\Lib\\site-packages\\pyro\\primitives.py:137: RuntimeWarning: trying to observe a value outside of inference at obs_92\n",
      "  warnings.warn(\n",
      "D:\\Python\\Lib\\site-packages\\pyro\\primitives.py:137: RuntimeWarning: trying to observe a value outside of inference at obs_93\n",
      "  warnings.warn(\n",
      "D:\\Python\\Lib\\site-packages\\pyro\\primitives.py:137: RuntimeWarning: trying to observe a value outside of inference at obs_94\n",
      "  warnings.warn(\n",
      "D:\\Python\\Lib\\site-packages\\pyro\\primitives.py:137: RuntimeWarning: trying to observe a value outside of inference at obs_95\n",
      "  warnings.warn(\n",
      "D:\\Python\\Lib\\site-packages\\pyro\\primitives.py:137: RuntimeWarning: trying to observe a value outside of inference at obs_96\n",
      "  warnings.warn(\n",
      "D:\\Python\\Lib\\site-packages\\pyro\\primitives.py:137: RuntimeWarning: trying to observe a value outside of inference at obs_97\n",
      "  warnings.warn(\n",
      "D:\\Python\\Lib\\site-packages\\pyro\\primitives.py:137: RuntimeWarning: trying to observe a value outside of inference at obs_98\n",
      "  warnings.warn(\n",
      "D:\\Python\\Lib\\site-packages\\pyro\\primitives.py:137: RuntimeWarning: trying to observe a value outside of inference at obs_99\n",
      "  warnings.warn(\n",
      "C:\\Users\\radug\\AppData\\Local\\Temp\\ipykernel_17476\\1573481220.py:2: UserWarning: To copy construct from a tensor, it is recommended to use sourceTensor.clone().detach() or sourceTensor.clone().detach().requires_grad_(True), rather than torch.tensor(sourceTensor).\n",
      "  svi_data = [torch.tensor(model(data)) for i in range(100)]\n"
     ]
    },
    {
     "name": "stderr",
     "output_type": "stream",
     "text": [
      "Sample: 100%|█████████████████████████████████████████| 200/200 [00:14, 13.40it/s, step size=5.78e-01, acc. prob=0.947]\n"
     ]
    }
   ],
   "source": [
    "# pointless to run this on the mean\n",
    "svi_data = [torch.tensor(model(data)) for i in range(100)]\n",
    "\n",
    "nuts_kernel = NUTS(model)\n",
    "mcmc = MCMC(\n",
    "        nuts_kernel,\n",
    "        num_samples=100,\n",
    "        warmup_steps=100,\n",
    "        num_chains=1,\n",
    "    )\n",
    "mcmc.run(svi_data)"
   ]
  },
  {
   "cell_type": "code",
   "execution_count": 12,
   "id": "a296a77c",
   "metadata": {},
   "outputs": [
    {
     "data": {
      "text/plain": [
       "tensor(0.4130)"
      ]
     },
     "execution_count": 12,
     "metadata": {},
     "output_type": "execute_result"
    }
   ],
   "source": [
    "mcmc.get_samples()['latent_fairness'].mean()"
   ]
  },
  {
   "cell_type": "code",
   "execution_count": 13,
   "id": "e951abd1",
   "metadata": {},
   "outputs": [
    {
     "data": {
      "text/plain": [
       "0.40976933"
      ]
     },
     "execution_count": 13,
     "metadata": {},
     "output_type": "execute_result"
    }
   ],
   "source": [
    "out = np.array([model(data).detach().numpy() for i in range(100)])\n",
    "out.mean()\n"
   ]
  },
  {
   "cell_type": "code",
   "execution_count": null,
   "id": "b5cabce0",
   "metadata": {},
   "outputs": [],
   "source": [
    "# maybe we turn it on its head\n",
    "# use mcmc to generate data -> then train for SVI -> see if improved\n",
    "# what we have here also works\n",
    "# can do both"
   ]
  }
 ],
 "metadata": {
  "kernelspec": {
   "display_name": "Python 3 (ipykernel)",
   "language": "python",
   "name": "python3"
  },
  "language_info": {
   "codemirror_mode": {
    "name": "ipython",
    "version": 3
   },
   "file_extension": ".py",
   "mimetype": "text/x-python",
   "name": "python",
   "nbconvert_exporter": "python",
   "pygments_lexer": "ipython3",
   "version": "3.11.3"
  }
 },
 "nbformat": 4,
 "nbformat_minor": 5
}
